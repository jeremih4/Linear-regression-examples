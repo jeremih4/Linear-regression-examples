{
 "cells": [
  {
   "cell_type": "markdown",
   "metadata": {},
   "source": [
    "# Linear Regression Examples"
   ]
  },
  {
   "cell_type": "markdown",
   "metadata": {},
   "source": [
    "In this notebook I itterate through different ways to perform linear regression.\n",
    "\n",
    "We first begin by loading the data"
   ]
  },
  {
   "cell_type": "code",
   "execution_count": 87,
   "metadata": {},
   "outputs": [],
   "source": [
    "%matplotlib inline\n",
    "import numpy as np\n",
    "import pandas as pd\n",
    "import matplotlib.pyplot as plt\n",
    "import io"
   ]
  },
  {
   "cell_type": "code",
   "execution_count": 89,
   "metadata": {},
   "outputs": [],
   "source": [
    "salary_data = pd.read_csv('salary_data.csv')\n",
    "# stolen from: https://towardsdatascience.com/machine-learning-simple-linear-regression-with-python-f04ecfdadc13"
   ]
  },
  {
   "cell_type": "code",
   "execution_count": 90,
   "metadata": {},
   "outputs": [
    {
     "name": "stdout",
     "output_type": "stream",
     "text": [
      "[[1.10000e+00 3.93430e+04]\n",
      " [1.30000e+00 4.62050e+04]\n",
      " [1.50000e+00 3.77310e+04]\n",
      " [2.00000e+00 4.35250e+04]\n",
      " [2.20000e+00 3.98910e+04]\n",
      " [2.90000e+00 5.66420e+04]\n",
      " [3.00000e+00 6.01500e+04]\n",
      " [3.20000e+00 5.44450e+04]\n",
      " [3.20000e+00 6.44450e+04]\n",
      " [3.70000e+00 5.71890e+04]\n",
      " [3.90000e+00 6.32180e+04]\n",
      " [4.00000e+00 5.57940e+04]\n",
      " [4.00000e+00 5.69570e+04]\n",
      " [4.10000e+00 5.70810e+04]\n",
      " [4.50000e+00 6.11110e+04]\n",
      " [4.90000e+00 6.79380e+04]\n",
      " [5.10000e+00 6.60290e+04]\n",
      " [5.30000e+00 8.30880e+04]\n",
      " [5.90000e+00 8.13630e+04]\n",
      " [6.00000e+00 9.39400e+04]\n",
      " [6.80000e+00 9.17380e+04]\n",
      " [7.10000e+00 9.82730e+04]\n",
      " [7.90000e+00 1.01302e+05]\n",
      " [8.20000e+00 1.13812e+05]\n",
      " [8.70000e+00 1.09431e+05]\n",
      " [9.00000e+00 1.05582e+05]\n",
      " [9.50000e+00 1.16969e+05]\n",
      " [9.60000e+00 1.12635e+05]\n",
      " [1.03000e+01 1.22391e+05]\n",
      " [1.05000e+01 1.21872e+05]]\n"
     ]
    }
   ],
   "source": [
    "salary_data = salary_data.values # creating x data matrix and response y\n",
    "print(salary_data)\n",
    "x = salary_data[:, 0:1]\n",
    "y = salary_data[:, 1:2]"
   ]
  },
  {
   "cell_type": "code",
   "execution_count": 91,
   "metadata": {},
   "outputs": [
    {
     "data": {
      "image/png": "[encoded data removed]",
      "text/plain": [
       "<Figure size 432x288 with 1 Axes>"
      ]
     },
     "metadata": {
      "needs_background": "light"
     },
     "output_type": "display_data"
    }
   ],
   "source": [
    "plt.plot(x, y, 'rx') # plot the data and see what it looks like\n",
    "plt.ylabel(\"y (salary)\")\n",
    "plt.xlabel(\"x (Years of experience)\")\n",
    "plt.show()"
   ]
  },
  {
   "cell_type": "markdown",
   "metadata": {},
   "source": [
    "## Using Linear Algebra\n",
    "\n",
    "$\\beta$ is defined as;\n",
    "\n",
    "$$\\mathbf{\\beta} = \\left(\\mathbf{X}^\\top \\mathbf{X}\\right)^{-1} \\mathbf{X}^\\top \\mathbf{y}$$\n",
    "\n",
    "and is the solution to the simple linear regression problem"
   ]
  },
  {
   "cell_type": "code",
   "execution_count": 92,
   "metadata": {},
   "outputs": [],
   "source": [
    "X = np.hstack((np.ones_like(x), x))\n",
    "w = np.linalg.solve(np.matmul(X.T,X), np.matmul(X.T,y)) # finding beta\n",
    "w1, w2 = w"
   ]
  },
  {
   "cell_type": "code",
   "execution_count": 93,
   "metadata": {},
   "outputs": [],
   "source": [
    "x_test = [5.7, 6.6, 7.8, 9.9]\n",
    "x_test = np.array(x_test)\n",
    "predictions = np.array(w1 + w2*x_test) # making predictions"
   ]
  },
  {
   "cell_type": "code",
   "execution_count": 94,
   "metadata": {},
   "outputs": [
    {
     "data": {
      "text/plain": [
       "array([[ 79656.98543096],\n",
       "       [ 88161.95152027],\n",
       "       [ 99501.90630602],\n",
       "       [119346.82718107]])"
      ]
     },
     "execution_count": 94,
     "metadata": {},
     "output_type": "execute_result"
    }
   ],
   "source": [
    "predictions.reshape(-1,1) # reshape"
   ]
  },
  {
   "cell_type": "markdown",
   "metadata": {},
   "source": [
    "## Using Sci-kit Learn"
   ]
  },
  {
   "cell_type": "code",
   "execution_count": 95,
   "metadata": {},
   "outputs": [
    {
     "data": {
      "text/plain": [
       "LinearRegression(copy_X=True, fit_intercept=True, n_jobs=None, normalize=False)"
      ]
     },
     "execution_count": 95,
     "metadata": {},
     "output_type": "execute_result"
    }
   ],
   "source": [
    "from sklearn.linear_model import LinearRegression # import linear regression from sci-kit learn\n",
    "lr = LinearRegression()\n",
    "lr.fit(x, y)"
   ]
  },
  {
   "cell_type": "code",
   "execution_count": 96,
   "metadata": {},
   "outputs": [
    {
     "name": "stdout",
     "output_type": "stream",
     "text": [
      "[25792.20019867] [25792.20019867]\n"
     ]
    }
   ],
   "source": [
    "print(lr.intercept_, w1) # checking the intercept is the same"
   ]
  },
  {
   "cell_type": "code",
   "execution_count": 97,
   "metadata": {},
   "outputs": [
    {
     "name": "stdout",
     "output_type": "stream",
     "text": [
      "[[9449.96232146]] [9449.96232146]\n"
     ]
    }
   ],
   "source": [
    "print(lr.coef_, w2) # checking beta1 is the same"
   ]
  },
  {
   "cell_type": "code",
   "execution_count": 98,
   "metadata": {},
   "outputs": [],
   "source": [
    "x_test = x_test.reshape(-1,1)"
   ]
  },
  {
   "cell_type": "code",
   "execution_count": 99,
   "metadata": {},
   "outputs": [
    {
     "data": {
      "text/plain": [
       "array([[ 79656.98543096],\n",
       "       [ 88161.95152027],\n",
       "       [ 99501.90630602],\n",
       "       [119346.82718107]])"
      ]
     },
     "execution_count": 99,
     "metadata": {},
     "output_type": "execute_result"
    }
   ],
   "source": [
    "lr.predict(x_test) # making predictions"
   ]
  },
  {
   "cell_type": "code",
   "execution_count": null,
   "metadata": {},
   "outputs": [],
   "source": []
  }
 ],
 "metadata": {
  "kernelspec": {
   "display_name": "Python 3",
   "language": "python",
   "name": "python3"
  },
  "language_info": {
   "codemirror_mode": {
    "name": "ipython",
    "version": 3
   },
   "file_extension": ".py",
   "mimetype": "text/x-python",
   "name": "python",
   "nbconvert_exporter": "python",
   "pygments_lexer": "ipython3",
   "version": "3.7.6"
  }
 },
 "nbformat": 4,
 "nbformat_minor": 4
}
